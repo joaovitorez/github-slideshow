{
  "nbformat": 4,
  "nbformat_minor": 0,
  "metadata": {
    "colab": {
      "name": "Untitled4.ipynb",
      "provenance": [],
      "authorship_tag": "ABX9TyM/ojjAihQCHgTz5du/vFAP",
      "include_colab_link": true
    },
    "kernelspec": {
      "name": "python3",
      "display_name": "Python 3"
    }
  },
  "cells": [
    {
      "cell_type": "markdown",
      "metadata": {
        "id": "view-in-github",
        "colab_type": "text"
      },
      "source": [
        "<a href=\"https://colab.research.google.com/github/joaovitorez/github-slideshow/blob/master/Untitled4.ipynb\" target=\"_parent\"><img src=\"https://colab.research.google.com/assets/colab-badge.svg\" alt=\"Open In Colab\"/></a>"
      ]
    },
    {
      "cell_type": "code",
      "metadata": {
        "id": "1XnRKcmlAVYs",
        "colab_type": "code",
        "colab": {
          "base_uri": "https://localhost:8080/",
          "height": 589
        },
        "outputId": "68ff0e0b-0e26-46df-f992-9b7b0fd0ce9a"
      },
      "source": [
        "import pandas as pd\n",
        "planilha = pd.read_excel(\"/content/Ensino Remoto Emergencial _respostas_confrarias.xlsx\")\n",
        "planilha"
      ],
      "execution_count": 115,
      "outputs": [
        {
          "output_type": "execute_result",
          "data": {
            "text/html": [
              "<div>\n",
              "<style scoped>\n",
              "    .dataframe tbody tr th:only-of-type {\n",
              "        vertical-align: middle;\n",
              "    }\n",
              "\n",
              "    .dataframe tbody tr th {\n",
              "        vertical-align: top;\n",
              "    }\n",
              "\n",
              "    .dataframe thead th {\n",
              "        text-align: right;\n",
              "    }\n",
              "</style>\n",
              "<table border=\"1\" class=\"dataframe\">\n",
              "  <thead>\n",
              "    <tr style=\"text-align: right;\">\n",
              "      <th></th>\n",
              "      <th>Nome (Completo)</th>\n",
              "      <th>Curso</th>\n",
              "      <th>VocE estA cursando disciplinas de que perIodo majoritariamente?</th>\n",
              "      <th>Matricula</th>\n",
              "      <th>NOME</th>\n",
              "      <th>SITUACAO</th>\n",
              "    </tr>\n",
              "  </thead>\n",
              "  <tbody>\n",
              "    <tr>\n",
              "      <th>0</th>\n",
              "      <td>Caio Lopes Rozental</td>\n",
              "      <td>Engenharia MecAnica</td>\n",
              "      <td>8º</td>\n",
              "      <td>119141848</td>\n",
              "      <td>HELOISA VILAR MARTINS</td>\n",
              "      <td>Ativa</td>\n",
              "    </tr>\n",
              "    <tr>\n",
              "      <th>1</th>\n",
              "      <td>Luccas Mazolli Veiga</td>\n",
              "      <td>Engenharia MecAnica</td>\n",
              "      <td>10º</td>\n",
              "      <td>119158780</td>\n",
              "      <td>JOAO PEDRO RODRIGUES PINHO</td>\n",
              "      <td>Ativa</td>\n",
              "    </tr>\n",
              "    <tr>\n",
              "      <th>2</th>\n",
              "      <td>Juliana Romano Correia</td>\n",
              "      <td>Engenharia MecAnica</td>\n",
              "      <td>4º</td>\n",
              "      <td>119178293</td>\n",
              "      <td>DANIEL GIRARD NAKAJIMA</td>\n",
              "      <td>Ativa</td>\n",
              "    </tr>\n",
              "    <tr>\n",
              "      <th>3</th>\n",
              "      <td>Leo Kepple Borba</td>\n",
              "      <td>Engenharia MecAnica</td>\n",
              "      <td>8º</td>\n",
              "      <td>119155245</td>\n",
              "      <td>MATHEUS MOERBECK DE ALMEIDA REGO MURTHA</td>\n",
              "      <td>Ativa</td>\n",
              "    </tr>\n",
              "    <tr>\n",
              "      <th>4</th>\n",
              "      <td>JoAo Vitor Coelho Vieira Batista</td>\n",
              "      <td>Engenharia MecAnica</td>\n",
              "      <td>1º</td>\n",
              "      <td>118024695</td>\n",
              "      <td>CARLOS DANIEL PENAFORTE DE SOUZA</td>\n",
              "      <td>Ativa</td>\n",
              "    </tr>\n",
              "    <tr>\n",
              "      <th>...</th>\n",
              "      <td>...</td>\n",
              "      <td>...</td>\n",
              "      <td>...</td>\n",
              "      <td>...</td>\n",
              "      <td>...</td>\n",
              "      <td>...</td>\n",
              "    </tr>\n",
              "    <tr>\n",
              "      <th>784</th>\n",
              "      <td>NaN</td>\n",
              "      <td>NaN</td>\n",
              "      <td>NaN</td>\n",
              "      <td>120085063</td>\n",
              "      <td>SHEYLA DE SOUZA DO CARMO</td>\n",
              "      <td>Ativa</td>\n",
              "    </tr>\n",
              "    <tr>\n",
              "      <th>785</th>\n",
              "      <td>NaN</td>\n",
              "      <td>NaN</td>\n",
              "      <td>NaN</td>\n",
              "      <td>120085136</td>\n",
              "      <td>JOYCE PAULINO</td>\n",
              "      <td>Ativa</td>\n",
              "    </tr>\n",
              "    <tr>\n",
              "      <th>786</th>\n",
              "      <td>NaN</td>\n",
              "      <td>NaN</td>\n",
              "      <td>NaN</td>\n",
              "      <td>120085186</td>\n",
              "      <td>SARAH DE OLIVEIRA SANT'ANNA</td>\n",
              "      <td>Ativa</td>\n",
              "    </tr>\n",
              "    <tr>\n",
              "      <th>787</th>\n",
              "      <td>NaN</td>\n",
              "      <td>NaN</td>\n",
              "      <td>NaN</td>\n",
              "      <td>120087277</td>\n",
              "      <td>JAMES DANIEL ALEXANDER WEBB</td>\n",
              "      <td>Ativa</td>\n",
              "    </tr>\n",
              "    <tr>\n",
              "      <th>788</th>\n",
              "      <td>NaN</td>\n",
              "      <td>NaN</td>\n",
              "      <td>NaN</td>\n",
              "      <td>120087316</td>\n",
              "      <td>RORY NICHOLAS CAMPBELL MORGAN</td>\n",
              "      <td>Ativa</td>\n",
              "    </tr>\n",
              "  </tbody>\n",
              "</table>\n",
              "<p>789 rows × 6 columns</p>\n",
              "</div>"
            ],
            "text/plain": [
              "                      Nome (Completo)  ... SITUACAO\n",
              "0                 Caio Lopes Rozental  ...    Ativa\n",
              "1                Luccas Mazolli Veiga  ...    Ativa\n",
              "2              Juliana Romano Correia  ...    Ativa\n",
              "3                    Leo Kepple Borba  ...    Ativa\n",
              "4    JoAo Vitor Coelho Vieira Batista  ...    Ativa\n",
              "..                                ...  ...      ...\n",
              "784                               NaN  ...    Ativa\n",
              "785                               NaN  ...    Ativa\n",
              "786                               NaN  ...    Ativa\n",
              "787                               NaN  ...    Ativa\n",
              "788                               NaN  ...    Ativa\n",
              "\n",
              "[789 rows x 6 columns]"
            ]
          },
          "metadata": {
            "tags": []
          },
          "execution_count": 115
        }
      ]
    },
    {
      "cell_type": "code",
      "metadata": {
        "id": "2SSZg_SXAnb9",
        "colab_type": "code",
        "colab": {}
      },
      "source": [
        "planilha['Nome (Completo)'] = planilha['Nome (Completo)'].apply(lambda x: str(x).upper())"
      ],
      "execution_count": 116,
      "outputs": []
    },
    {
      "cell_type": "code",
      "metadata": {
        "id": "zDr6ZtUvAxSs",
        "colab_type": "code",
        "colab": {}
      },
      "source": [
        "planilha['NOME'] = planilha['NOME'].apply(lambda x: str(x).upper())"
      ],
      "execution_count": 117,
      "outputs": []
    },
    {
      "cell_type": "code",
      "metadata": {
        "id": "swz6GgSoA1wt",
        "colab_type": "code",
        "colab": {
          "base_uri": "https://localhost:8080/",
          "height": 606
        },
        "outputId": "72e393e1-01f5-4ae2-91f1-d6b47014e9d2"
      },
      "source": [
        "planilha"
      ],
      "execution_count": 118,
      "outputs": [
        {
          "output_type": "execute_result",
          "data": {
            "text/html": [
              "<div>\n",
              "<style scoped>\n",
              "    .dataframe tbody tr th:only-of-type {\n",
              "        vertical-align: middle;\n",
              "    }\n",
              "\n",
              "    .dataframe tbody tr th {\n",
              "        vertical-align: top;\n",
              "    }\n",
              "\n",
              "    .dataframe thead th {\n",
              "        text-align: right;\n",
              "    }\n",
              "</style>\n",
              "<table border=\"1\" class=\"dataframe\">\n",
              "  <thead>\n",
              "    <tr style=\"text-align: right;\">\n",
              "      <th></th>\n",
              "      <th>Nome (Completo)</th>\n",
              "      <th>Curso</th>\n",
              "      <th>VocE estA cursando disciplinas de que perIodo majoritariamente?</th>\n",
              "      <th>Matricula</th>\n",
              "      <th>NOME</th>\n",
              "      <th>SITUACAO</th>\n",
              "    </tr>\n",
              "  </thead>\n",
              "  <tbody>\n",
              "    <tr>\n",
              "      <th>0</th>\n",
              "      <td>CAIO LOPES ROZENTAL</td>\n",
              "      <td>Engenharia MecAnica</td>\n",
              "      <td>8º</td>\n",
              "      <td>119141848</td>\n",
              "      <td>HELOISA VILAR MARTINS</td>\n",
              "      <td>Ativa</td>\n",
              "    </tr>\n",
              "    <tr>\n",
              "      <th>1</th>\n",
              "      <td>LUCCAS MAZOLLI VEIGA</td>\n",
              "      <td>Engenharia MecAnica</td>\n",
              "      <td>10º</td>\n",
              "      <td>119158780</td>\n",
              "      <td>JOAO PEDRO RODRIGUES PINHO</td>\n",
              "      <td>Ativa</td>\n",
              "    </tr>\n",
              "    <tr>\n",
              "      <th>2</th>\n",
              "      <td>JULIANA ROMANO CORREIA</td>\n",
              "      <td>Engenharia MecAnica</td>\n",
              "      <td>4º</td>\n",
              "      <td>119178293</td>\n",
              "      <td>DANIEL GIRARD NAKAJIMA</td>\n",
              "      <td>Ativa</td>\n",
              "    </tr>\n",
              "    <tr>\n",
              "      <th>3</th>\n",
              "      <td>LEO KEPPLE BORBA</td>\n",
              "      <td>Engenharia MecAnica</td>\n",
              "      <td>8º</td>\n",
              "      <td>119155245</td>\n",
              "      <td>MATHEUS MOERBECK DE ALMEIDA REGO MURTHA</td>\n",
              "      <td>Ativa</td>\n",
              "    </tr>\n",
              "    <tr>\n",
              "      <th>4</th>\n",
              "      <td>JOAO VITOR COELHO VIEIRA BATISTA</td>\n",
              "      <td>Engenharia MecAnica</td>\n",
              "      <td>1º</td>\n",
              "      <td>118024695</td>\n",
              "      <td>CARLOS DANIEL PENAFORTE DE SOUZA</td>\n",
              "      <td>Ativa</td>\n",
              "    </tr>\n",
              "    <tr>\n",
              "      <th>...</th>\n",
              "      <td>...</td>\n",
              "      <td>...</td>\n",
              "      <td>...</td>\n",
              "      <td>...</td>\n",
              "      <td>...</td>\n",
              "      <td>...</td>\n",
              "    </tr>\n",
              "    <tr>\n",
              "      <th>784</th>\n",
              "      <td>NAN</td>\n",
              "      <td>NaN</td>\n",
              "      <td>NaN</td>\n",
              "      <td>120085063</td>\n",
              "      <td>SHEYLA DE SOUZA DO CARMO</td>\n",
              "      <td>Ativa</td>\n",
              "    </tr>\n",
              "    <tr>\n",
              "      <th>785</th>\n",
              "      <td>NAN</td>\n",
              "      <td>NaN</td>\n",
              "      <td>NaN</td>\n",
              "      <td>120085136</td>\n",
              "      <td>JOYCE PAULINO</td>\n",
              "      <td>Ativa</td>\n",
              "    </tr>\n",
              "    <tr>\n",
              "      <th>786</th>\n",
              "      <td>NAN</td>\n",
              "      <td>NaN</td>\n",
              "      <td>NaN</td>\n",
              "      <td>120085186</td>\n",
              "      <td>SARAH DE OLIVEIRA SANT'ANNA</td>\n",
              "      <td>Ativa</td>\n",
              "    </tr>\n",
              "    <tr>\n",
              "      <th>787</th>\n",
              "      <td>NAN</td>\n",
              "      <td>NaN</td>\n",
              "      <td>NaN</td>\n",
              "      <td>120087277</td>\n",
              "      <td>JAMES DANIEL ALEXANDER WEBB</td>\n",
              "      <td>Ativa</td>\n",
              "    </tr>\n",
              "    <tr>\n",
              "      <th>788</th>\n",
              "      <td>NAN</td>\n",
              "      <td>NaN</td>\n",
              "      <td>NaN</td>\n",
              "      <td>120087316</td>\n",
              "      <td>RORY NICHOLAS CAMPBELL MORGAN</td>\n",
              "      <td>Ativa</td>\n",
              "    </tr>\n",
              "  </tbody>\n",
              "</table>\n",
              "<p>789 rows × 6 columns</p>\n",
              "</div>"
            ],
            "text/plain": [
              "                      Nome (Completo)  ... SITUACAO\n",
              "0                 CAIO LOPES ROZENTAL  ...    Ativa\n",
              "1                LUCCAS MAZOLLI VEIGA  ...    Ativa\n",
              "2              JULIANA ROMANO CORREIA  ...    Ativa\n",
              "3                    LEO KEPPLE BORBA  ...    Ativa\n",
              "4    JOAO VITOR COELHO VIEIRA BATISTA  ...    Ativa\n",
              "..                                ...  ...      ...\n",
              "784                               NAN  ...    Ativa\n",
              "785                               NAN  ...    Ativa\n",
              "786                               NAN  ...    Ativa\n",
              "787                               NAN  ...    Ativa\n",
              "788                               NAN  ...    Ativa\n",
              "\n",
              "[789 rows x 6 columns]"
            ]
          },
          "metadata": {
            "tags": []
          },
          "execution_count": 118
        }
      ]
    },
    {
      "cell_type": "code",
      "metadata": {
        "id": "hlxlXzEYA2xW",
        "colab_type": "code",
        "colab": {}
      },
      "source": [
        "planilha['Nome (Completo)'] = planilha['Nome (Completo)'].apply(lambda y: str(y).replace(\"'\", ''))"
      ],
      "execution_count": 119,
      "outputs": []
    },
    {
      "cell_type": "code",
      "metadata": {
        "id": "AdHajtvXBZ8z",
        "colab_type": "code",
        "colab": {}
      },
      "source": [
        "planilha['NOME'] = planilha['NOME'].apply(lambda y: str(y).replace(\"'\", ''))"
      ],
      "execution_count": 120,
      "outputs": []
    },
    {
      "cell_type": "code",
      "metadata": {
        "id": "eXgxL064F4Ay",
        "colab_type": "code",
        "colab": {}
      },
      "source": [
        "planilha['Nome (Completo)'] = planilha['Nome (Completo)'].apply(lambda z: str(z).strip())"
      ],
      "execution_count": 121,
      "outputs": []
    },
    {
      "cell_type": "code",
      "metadata": {
        "id": "zJ79ICMHGJ-q",
        "colab_type": "code",
        "colab": {}
      },
      "source": [
        "planilha['NOME'] = planilha['NOME'].apply(lambda z: str(z).strip())"
      ],
      "execution_count": 122,
      "outputs": []
    },
    {
      "cell_type": "code",
      "metadata": {
        "id": "-kQqP6DqIDW7",
        "colab_type": "code",
        "colab": {
          "base_uri": "https://localhost:8080/",
          "height": 122
        },
        "outputId": "5e0ae209-f573-4039-aa0b-81562c502e03"
      },
      "source": [
        "planilha['Nome (Completo)'].iloc[56] = 'BRUNO LIMA RODRIGUES DE ALMEIDA'"
      ],
      "execution_count": 123,
      "outputs": [
        {
          "output_type": "stream",
          "text": [
            "/usr/local/lib/python3.6/dist-packages/pandas/core/indexing.py:671: SettingWithCopyWarning: \n",
            "A value is trying to be set on a copy of a slice from a DataFrame\n",
            "\n",
            "See the caveats in the documentation: https://pandas.pydata.org/pandas-docs/stable/user_guide/indexing.html#returning-a-view-versus-a-copy\n",
            "  self._setitem_with_indexer(indexer, value)\n"
          ],
          "name": "stderr"
        }
      ]
    },
    {
      "cell_type": "code",
      "metadata": {
        "id": "_1XjnX6NIoz3",
        "colab_type": "code",
        "colab": {
          "base_uri": "https://localhost:8080/",
          "height": 122
        },
        "outputId": "9e1ecbb5-8488-4a75-df32-815f90b4dcaf"
      },
      "source": [
        "planilha['Nome (Completo)'].iloc[66] = 'JOYCE PAULINO'"
      ],
      "execution_count": 124,
      "outputs": [
        {
          "output_type": "stream",
          "text": [
            "/usr/local/lib/python3.6/dist-packages/pandas/core/indexing.py:671: SettingWithCopyWarning: \n",
            "A value is trying to be set on a copy of a slice from a DataFrame\n",
            "\n",
            "See the caveats in the documentation: https://pandas.pydata.org/pandas-docs/stable/user_guide/indexing.html#returning-a-view-versus-a-copy\n",
            "  self._setitem_with_indexer(indexer, value)\n"
          ],
          "name": "stderr"
        }
      ]
    },
    {
      "cell_type": "code",
      "metadata": {
        "id": "u4poANHyI3ON",
        "colab_type": "code",
        "colab": {}
      },
      "source": [
        "planilha['NOME'] = planilha['NOME'].apply(lambda k: str(k).replace('ATIVA',''))"
      ],
      "execution_count": 125,
      "outputs": []
    },
    {
      "cell_type": "code",
      "metadata": {
        "id": "iuUdp7QsJFn_",
        "colab_type": "code",
        "colab": {}
      },
      "source": [
        "planilha['Nome (Completo)'] = planilha['Nome (Completo)'].apply(lambda x: str(x).replace('SANT ANNA','SANTANNA'))"
      ],
      "execution_count": 126,
      "outputs": []
    },
    {
      "cell_type": "code",
      "metadata": {
        "id": "wmwqqyxIKGkv",
        "colab_type": "code",
        "colab": {}
      },
      "source": [
        "planilha['Nome (Completo)'] = planilha['Nome (Completo)'].apply(lambda x: str(x).replace('PHILIPI','PHILIPPI'))"
      ],
      "execution_count": 127,
      "outputs": []
    },
    {
      "cell_type": "code",
      "metadata": {
        "id": "SmKQWy5JLOvD",
        "colab_type": "code",
        "colab": {}
      },
      "source": [
        "planilha['NOME'] = planilha['NOME'].apply(lambda z: str(z).strip())\n",
        "planilha['Nome (Completo)'] = planilha['Nome (Completo)'].apply(lambda z: str(z).strip())"
      ],
      "execution_count": 128,
      "outputs": []
    },
    {
      "cell_type": "code",
      "metadata": {
        "id": "5zedZCM3LgY_",
        "colab_type": "code",
        "colab": {
          "base_uri": "https://localhost:8080/",
          "height": 122
        },
        "outputId": "a3c3dda7-7462-44ff-fa54-d938efb85389"
      },
      "source": [
        "planilha['Nome (Completo)'].iloc[223] = 'ANDREI HUNEMEYER DULLIUS'"
      ],
      "execution_count": 129,
      "outputs": [
        {
          "output_type": "stream",
          "text": [
            "/usr/local/lib/python3.6/dist-packages/pandas/core/indexing.py:671: SettingWithCopyWarning: \n",
            "A value is trying to be set on a copy of a slice from a DataFrame\n",
            "\n",
            "See the caveats in the documentation: https://pandas.pydata.org/pandas-docs/stable/user_guide/indexing.html#returning-a-view-versus-a-copy\n",
            "  self._setitem_with_indexer(indexer, value)\n"
          ],
          "name": "stderr"
        }
      ]
    },
    {
      "cell_type": "code",
      "metadata": {
        "id": "JgfSABRcMm5n",
        "colab_type": "code",
        "colab": {}
      },
      "source": [
        "planilha['NOME'] = planilha['NOME'].apply(lambda x: str(x).replace(\"JOAO GABRIEL FIGUEIREDO DE SANT ANNA\",'JOAO GABRIEL FIGUEIREDO DE SANTANNA'))"
      ],
      "execution_count": 130,
      "outputs": []
    },
    {
      "cell_type": "code",
      "metadata": {
        "id": "RrkHJ34DBevX",
        "colab_type": "code",
        "colab": {
          "base_uri": "https://localhost:8080/",
          "height": 606
        },
        "outputId": "7c3190dc-a71d-457d-f36c-887fdab53d3f"
      },
      "source": [
        "planilha"
      ],
      "execution_count": 131,
      "outputs": [
        {
          "output_type": "execute_result",
          "data": {
            "text/html": [
              "<div>\n",
              "<style scoped>\n",
              "    .dataframe tbody tr th:only-of-type {\n",
              "        vertical-align: middle;\n",
              "    }\n",
              "\n",
              "    .dataframe tbody tr th {\n",
              "        vertical-align: top;\n",
              "    }\n",
              "\n",
              "    .dataframe thead th {\n",
              "        text-align: right;\n",
              "    }\n",
              "</style>\n",
              "<table border=\"1\" class=\"dataframe\">\n",
              "  <thead>\n",
              "    <tr style=\"text-align: right;\">\n",
              "      <th></th>\n",
              "      <th>Nome (Completo)</th>\n",
              "      <th>Curso</th>\n",
              "      <th>VocE estA cursando disciplinas de que perIodo majoritariamente?</th>\n",
              "      <th>Matricula</th>\n",
              "      <th>NOME</th>\n",
              "      <th>SITUACAO</th>\n",
              "    </tr>\n",
              "  </thead>\n",
              "  <tbody>\n",
              "    <tr>\n",
              "      <th>0</th>\n",
              "      <td>CAIO LOPES ROZENTAL</td>\n",
              "      <td>Engenharia MecAnica</td>\n",
              "      <td>8º</td>\n",
              "      <td>119141848</td>\n",
              "      <td>HELOISA VILAR MARTINS</td>\n",
              "      <td>Ativa</td>\n",
              "    </tr>\n",
              "    <tr>\n",
              "      <th>1</th>\n",
              "      <td>LUCCAS MAZOLLI VEIGA</td>\n",
              "      <td>Engenharia MecAnica</td>\n",
              "      <td>10º</td>\n",
              "      <td>119158780</td>\n",
              "      <td>JOAO PEDRO RODRIGUES PINHO</td>\n",
              "      <td>Ativa</td>\n",
              "    </tr>\n",
              "    <tr>\n",
              "      <th>2</th>\n",
              "      <td>JULIANA ROMANO CORREIA</td>\n",
              "      <td>Engenharia MecAnica</td>\n",
              "      <td>4º</td>\n",
              "      <td>119178293</td>\n",
              "      <td>DANIEL GIRARD NAKAJIMA</td>\n",
              "      <td>Ativa</td>\n",
              "    </tr>\n",
              "    <tr>\n",
              "      <th>3</th>\n",
              "      <td>LEO KEPPLE BORBA</td>\n",
              "      <td>Engenharia MecAnica</td>\n",
              "      <td>8º</td>\n",
              "      <td>119155245</td>\n",
              "      <td>MATHEUS MOERBECK DE ALMEIDA REGO MURTHA</td>\n",
              "      <td>Ativa</td>\n",
              "    </tr>\n",
              "    <tr>\n",
              "      <th>4</th>\n",
              "      <td>JOAO VITOR COELHO VIEIRA BATISTA</td>\n",
              "      <td>Engenharia MecAnica</td>\n",
              "      <td>1º</td>\n",
              "      <td>118024695</td>\n",
              "      <td>CARLOS DANIEL PENAFORTE DE SOUZA</td>\n",
              "      <td>Ativa</td>\n",
              "    </tr>\n",
              "    <tr>\n",
              "      <th>...</th>\n",
              "      <td>...</td>\n",
              "      <td>...</td>\n",
              "      <td>...</td>\n",
              "      <td>...</td>\n",
              "      <td>...</td>\n",
              "      <td>...</td>\n",
              "    </tr>\n",
              "    <tr>\n",
              "      <th>784</th>\n",
              "      <td>NAN</td>\n",
              "      <td>NaN</td>\n",
              "      <td>NaN</td>\n",
              "      <td>120085063</td>\n",
              "      <td>SHEYLA DE SOUZA DO CARMO</td>\n",
              "      <td>Ativa</td>\n",
              "    </tr>\n",
              "    <tr>\n",
              "      <th>785</th>\n",
              "      <td>NAN</td>\n",
              "      <td>NaN</td>\n",
              "      <td>NaN</td>\n",
              "      <td>120085136</td>\n",
              "      <td>JOYCE PAULINO</td>\n",
              "      <td>Ativa</td>\n",
              "    </tr>\n",
              "    <tr>\n",
              "      <th>786</th>\n",
              "      <td>NAN</td>\n",
              "      <td>NaN</td>\n",
              "      <td>NaN</td>\n",
              "      <td>120085186</td>\n",
              "      <td>SARAH DE OLIVEIRA SANTANNA</td>\n",
              "      <td>Ativa</td>\n",
              "    </tr>\n",
              "    <tr>\n",
              "      <th>787</th>\n",
              "      <td>NAN</td>\n",
              "      <td>NaN</td>\n",
              "      <td>NaN</td>\n",
              "      <td>120087277</td>\n",
              "      <td>JAMES DANIEL ALEXANDER WEBB</td>\n",
              "      <td>Ativa</td>\n",
              "    </tr>\n",
              "    <tr>\n",
              "      <th>788</th>\n",
              "      <td>NAN</td>\n",
              "      <td>NaN</td>\n",
              "      <td>NaN</td>\n",
              "      <td>120087316</td>\n",
              "      <td>RORY NICHOLAS CAMPBELL MORGAN</td>\n",
              "      <td>Ativa</td>\n",
              "    </tr>\n",
              "  </tbody>\n",
              "</table>\n",
              "<p>789 rows × 6 columns</p>\n",
              "</div>"
            ],
            "text/plain": [
              "                      Nome (Completo)  ... SITUACAO\n",
              "0                 CAIO LOPES ROZENTAL  ...    Ativa\n",
              "1                LUCCAS MAZOLLI VEIGA  ...    Ativa\n",
              "2              JULIANA ROMANO CORREIA  ...    Ativa\n",
              "3                    LEO KEPPLE BORBA  ...    Ativa\n",
              "4    JOAO VITOR COELHO VIEIRA BATISTA  ...    Ativa\n",
              "..                                ...  ...      ...\n",
              "784                               NAN  ...    Ativa\n",
              "785                               NAN  ...    Ativa\n",
              "786                               NAN  ...    Ativa\n",
              "787                               NAN  ...    Ativa\n",
              "788                               NAN  ...    Ativa\n",
              "\n",
              "[789 rows x 6 columns]"
            ]
          },
          "metadata": {
            "tags": []
          },
          "execution_count": 131
        }
      ]
    },
    {
      "cell_type": "code",
      "metadata": {
        "id": "wBo4wm0JBgOO",
        "colab_type": "code",
        "colab": {}
      },
      "source": [
        "#Percebe-se que algumas pessoas que responderam não estão na listagem\n",
        "pessoas_sem_registro = planilha.query('`Nome (Completo)` not in NOME')"
      ],
      "execution_count": 132,
      "outputs": []
    },
    {
      "cell_type": "code",
      "metadata": {
        "id": "GRHZHl5SB1cT",
        "colab_type": "code",
        "colab": {
          "base_uri": "https://localhost:8080/",
          "height": 884
        },
        "outputId": "5e1e3bab-be5d-4094-b514-9b218137961e"
      },
      "source": [
        "pessoas_sem_registro['Nome (Completo)'][:50]"
      ],
      "execution_count": 133,
      "outputs": [
        {
          "output_type": "execute_result",
          "data": {
            "text/plain": [
              "3                                 LEO KEPPLE BORBA\n",
              "130    STEPHANIE BARROUIN COSTA FERREIRA DOS ANJOS\n",
              "147                                 RUBEM CARVALHO\n",
              "152                          MARIA LENINA TRINDADE\n",
              "189                           LUCAS SANTOS DE DEUS\n",
              "228                  VICTOR HUGO DE OLIVEIRA PINTO\n",
              "294                                            NAN\n",
              "295                                            NAN\n",
              "296                                            NAN\n",
              "297                                            NAN\n",
              "298                                            NAN\n",
              "299                                            NAN\n",
              "300                                            NAN\n",
              "301                                            NAN\n",
              "302                                            NAN\n",
              "303                                            NAN\n",
              "304                                            NAN\n",
              "305                                            NAN\n",
              "306                                            NAN\n",
              "307                                            NAN\n",
              "308                                            NAN\n",
              "309                                            NAN\n",
              "310                                            NAN\n",
              "311                                            NAN\n",
              "312                                            NAN\n",
              "313                                            NAN\n",
              "314                                            NAN\n",
              "315                                            NAN\n",
              "316                                            NAN\n",
              "317                                            NAN\n",
              "318                                            NAN\n",
              "319                                            NAN\n",
              "320                                            NAN\n",
              "321                                            NAN\n",
              "322                                            NAN\n",
              "323                                            NAN\n",
              "324                                            NAN\n",
              "325                                            NAN\n",
              "326                                            NAN\n",
              "327                                            NAN\n",
              "328                                            NAN\n",
              "329                                            NAN\n",
              "330                                            NAN\n",
              "331                                            NAN\n",
              "332                                            NAN\n",
              "333                                            NAN\n",
              "334                                            NAN\n",
              "335                                            NAN\n",
              "336                                            NAN\n",
              "337                                            NAN\n",
              "Name: Nome (Completo), dtype: object"
            ]
          },
          "metadata": {
            "tags": []
          },
          "execution_count": 133
        }
      ]
    },
    {
      "cell_type": "code",
      "metadata": {
        "id": "y9RytOwBGT_3",
        "colab_type": "code",
        "colab": {}
      },
      "source": [
        "#ver se as pessoas de NOME que estão em Nome completo resultam total-6\n",
        "planilha['NOME'].drop_duplicates()\n",
        "pessoas_listagem_jaresponderam = planilha.query('NOME in `Nome (Completo)`')"
      ],
      "execution_count": 134,
      "outputs": []
    },
    {
      "cell_type": "code",
      "metadata": {
        "id": "PcoRjPOONYCT",
        "colab_type": "code",
        "colab": {
          "base_uri": "https://localhost:8080/",
          "height": 221
        },
        "outputId": "279350fb-1a5d-489c-d7ea-756ab110f925"
      },
      "source": [
        "pessoas_listagem_jaresponderam['NOME']"
      ],
      "execution_count": 135,
      "outputs": [
        {
          "output_type": "execute_result",
          "data": {
            "text/plain": [
              "0                        HELOISA VILAR MARTINS\n",
              "1                   JOAO PEDRO RODRIGUES PINHO\n",
              "2                       DANIEL GIRARD NAKAJIMA\n",
              "3      MATHEUS MOERBECK DE ALMEIDA REGO MURTHA\n",
              "5                       VINICIUS FEIJO PEREIRA\n",
              "                        ...                   \n",
              "767                   KESILY DE PAULA DA SILVA\n",
              "775                 GRACIELLY CARVALHO MOREIRA\n",
              "778                          VITOR PELS AIZMAN\n",
              "785                              JOYCE PAULINO\n",
              "786                 SARAH DE OLIVEIRA SANTANNA\n",
              "Name: NOME, Length: 291, dtype: object"
            ]
          },
          "metadata": {
            "tags": []
          },
          "execution_count": 135
        }
      ]
    },
    {
      "cell_type": "code",
      "metadata": {
        "id": "L5j1ImdWOnGs",
        "colab_type": "code",
        "colab": {
          "base_uri": "https://localhost:8080/",
          "height": 221
        },
        "outputId": "30565364-c1e4-4655-9876-7236fa015969"
      },
      "source": [
        "planilha['NOME']"
      ],
      "execution_count": 136,
      "outputs": [
        {
          "output_type": "execute_result",
          "data": {
            "text/plain": [
              "0                        HELOISA VILAR MARTINS\n",
              "1                   JOAO PEDRO RODRIGUES PINHO\n",
              "2                       DANIEL GIRARD NAKAJIMA\n",
              "3      MATHEUS MOERBECK DE ALMEIDA REGO MURTHA\n",
              "4             CARLOS DANIEL PENAFORTE DE SOUZA\n",
              "                        ...                   \n",
              "784                   SHEYLA DE SOUZA DO CARMO\n",
              "785                              JOYCE PAULINO\n",
              "786                 SARAH DE OLIVEIRA SANTANNA\n",
              "787                JAMES DANIEL ALEXANDER WEBB\n",
              "788              RORY NICHOLAS CAMPBELL MORGAN\n",
              "Name: NOME, Length: 789, dtype: object"
            ]
          },
          "metadata": {
            "tags": []
          },
          "execution_count": 136
        }
      ]
    },
    {
      "cell_type": "code",
      "metadata": {
        "id": "TffA34kDPzEq",
        "colab_type": "code",
        "colab": {}
      },
      "source": [
        "pessoas_a_procurar = planilha['NOME'].drop(pessoas_listagem_jaresponderam['NOME'].index)"
      ],
      "execution_count": 137,
      "outputs": []
    },
    {
      "cell_type": "code",
      "metadata": {
        "id": "xIKtHGPwQFn1",
        "colab_type": "code",
        "colab": {}
      },
      "source": [
        "planilha['Pessoas que não responderam formulário'] = pessoas_a_procurar"
      ],
      "execution_count": 138,
      "outputs": []
    },
    {
      "cell_type": "code",
      "metadata": {
        "id": "1XOjOG4MQrFv",
        "colab_type": "code",
        "colab": {
          "base_uri": "https://localhost:8080/",
          "height": 776
        },
        "outputId": "e61739b0-7795-4a82-c4d4-540ea895b7d9"
      },
      "source": [
        "planilha"
      ],
      "execution_count": 139,
      "outputs": [
        {
          "output_type": "execute_result",
          "data": {
            "text/html": [
              "<div>\n",
              "<style scoped>\n",
              "    .dataframe tbody tr th:only-of-type {\n",
              "        vertical-align: middle;\n",
              "    }\n",
              "\n",
              "    .dataframe tbody tr th {\n",
              "        vertical-align: top;\n",
              "    }\n",
              "\n",
              "    .dataframe thead th {\n",
              "        text-align: right;\n",
              "    }\n",
              "</style>\n",
              "<table border=\"1\" class=\"dataframe\">\n",
              "  <thead>\n",
              "    <tr style=\"text-align: right;\">\n",
              "      <th></th>\n",
              "      <th>Nome (Completo)</th>\n",
              "      <th>Curso</th>\n",
              "      <th>VocE estA cursando disciplinas de que perIodo majoritariamente?</th>\n",
              "      <th>Matricula</th>\n",
              "      <th>NOME</th>\n",
              "      <th>SITUACAO</th>\n",
              "      <th>Pessoas que não responderam formulário</th>\n",
              "    </tr>\n",
              "  </thead>\n",
              "  <tbody>\n",
              "    <tr>\n",
              "      <th>0</th>\n",
              "      <td>CAIO LOPES ROZENTAL</td>\n",
              "      <td>Engenharia MecAnica</td>\n",
              "      <td>8º</td>\n",
              "      <td>119141848</td>\n",
              "      <td>HELOISA VILAR MARTINS</td>\n",
              "      <td>Ativa</td>\n",
              "      <td>NaN</td>\n",
              "    </tr>\n",
              "    <tr>\n",
              "      <th>1</th>\n",
              "      <td>LUCCAS MAZOLLI VEIGA</td>\n",
              "      <td>Engenharia MecAnica</td>\n",
              "      <td>10º</td>\n",
              "      <td>119158780</td>\n",
              "      <td>JOAO PEDRO RODRIGUES PINHO</td>\n",
              "      <td>Ativa</td>\n",
              "      <td>NaN</td>\n",
              "    </tr>\n",
              "    <tr>\n",
              "      <th>2</th>\n",
              "      <td>JULIANA ROMANO CORREIA</td>\n",
              "      <td>Engenharia MecAnica</td>\n",
              "      <td>4º</td>\n",
              "      <td>119178293</td>\n",
              "      <td>DANIEL GIRARD NAKAJIMA</td>\n",
              "      <td>Ativa</td>\n",
              "      <td>NaN</td>\n",
              "    </tr>\n",
              "    <tr>\n",
              "      <th>3</th>\n",
              "      <td>LEO KEPPLE BORBA</td>\n",
              "      <td>Engenharia MecAnica</td>\n",
              "      <td>8º</td>\n",
              "      <td>119155245</td>\n",
              "      <td>MATHEUS MOERBECK DE ALMEIDA REGO MURTHA</td>\n",
              "      <td>Ativa</td>\n",
              "      <td>NaN</td>\n",
              "    </tr>\n",
              "    <tr>\n",
              "      <th>4</th>\n",
              "      <td>JOAO VITOR COELHO VIEIRA BATISTA</td>\n",
              "      <td>Engenharia MecAnica</td>\n",
              "      <td>1º</td>\n",
              "      <td>118024695</td>\n",
              "      <td>CARLOS DANIEL PENAFORTE DE SOUZA</td>\n",
              "      <td>Ativa</td>\n",
              "      <td>CARLOS DANIEL PENAFORTE DE SOUZA</td>\n",
              "    </tr>\n",
              "    <tr>\n",
              "      <th>...</th>\n",
              "      <td>...</td>\n",
              "      <td>...</td>\n",
              "      <td>...</td>\n",
              "      <td>...</td>\n",
              "      <td>...</td>\n",
              "      <td>...</td>\n",
              "      <td>...</td>\n",
              "    </tr>\n",
              "    <tr>\n",
              "      <th>784</th>\n",
              "      <td>NAN</td>\n",
              "      <td>NaN</td>\n",
              "      <td>NaN</td>\n",
              "      <td>120085063</td>\n",
              "      <td>SHEYLA DE SOUZA DO CARMO</td>\n",
              "      <td>Ativa</td>\n",
              "      <td>SHEYLA DE SOUZA DO CARMO</td>\n",
              "    </tr>\n",
              "    <tr>\n",
              "      <th>785</th>\n",
              "      <td>NAN</td>\n",
              "      <td>NaN</td>\n",
              "      <td>NaN</td>\n",
              "      <td>120085136</td>\n",
              "      <td>JOYCE PAULINO</td>\n",
              "      <td>Ativa</td>\n",
              "      <td>NaN</td>\n",
              "    </tr>\n",
              "    <tr>\n",
              "      <th>786</th>\n",
              "      <td>NAN</td>\n",
              "      <td>NaN</td>\n",
              "      <td>NaN</td>\n",
              "      <td>120085186</td>\n",
              "      <td>SARAH DE OLIVEIRA SANTANNA</td>\n",
              "      <td>Ativa</td>\n",
              "      <td>NaN</td>\n",
              "    </tr>\n",
              "    <tr>\n",
              "      <th>787</th>\n",
              "      <td>NAN</td>\n",
              "      <td>NaN</td>\n",
              "      <td>NaN</td>\n",
              "      <td>120087277</td>\n",
              "      <td>JAMES DANIEL ALEXANDER WEBB</td>\n",
              "      <td>Ativa</td>\n",
              "      <td>JAMES DANIEL ALEXANDER WEBB</td>\n",
              "    </tr>\n",
              "    <tr>\n",
              "      <th>788</th>\n",
              "      <td>NAN</td>\n",
              "      <td>NaN</td>\n",
              "      <td>NaN</td>\n",
              "      <td>120087316</td>\n",
              "      <td>RORY NICHOLAS CAMPBELL MORGAN</td>\n",
              "      <td>Ativa</td>\n",
              "      <td>RORY NICHOLAS CAMPBELL MORGAN</td>\n",
              "    </tr>\n",
              "  </tbody>\n",
              "</table>\n",
              "<p>789 rows × 7 columns</p>\n",
              "</div>"
            ],
            "text/plain": [
              "                      Nome (Completo)  ... Pessoas que não responderam formulário\n",
              "0                 CAIO LOPES ROZENTAL  ...                                    NaN\n",
              "1                LUCCAS MAZOLLI VEIGA  ...                                    NaN\n",
              "2              JULIANA ROMANO CORREIA  ...                                    NaN\n",
              "3                    LEO KEPPLE BORBA  ...                                    NaN\n",
              "4    JOAO VITOR COELHO VIEIRA BATISTA  ...       CARLOS DANIEL PENAFORTE DE SOUZA\n",
              "..                                ...  ...                                    ...\n",
              "784                               NAN  ...               SHEYLA DE SOUZA DO CARMO\n",
              "785                               NAN  ...                                    NaN\n",
              "786                               NAN  ...                                    NaN\n",
              "787                               NAN  ...            JAMES DANIEL ALEXANDER WEBB\n",
              "788                               NAN  ...          RORY NICHOLAS CAMPBELL MORGAN\n",
              "\n",
              "[789 rows x 7 columns]"
            ]
          },
          "metadata": {
            "tags": []
          },
          "execution_count": 139
        }
      ]
    },
    {
      "cell_type": "code",
      "metadata": {
        "id": "M1fFrnklRXps",
        "colab_type": "code",
        "colab": {}
      },
      "source": [
        "planilha['Pessoas que não responderam formulário'] = planilha['Pessoas que não responderam formulário'].fillna('OK')"
      ],
      "execution_count": 140,
      "outputs": []
    },
    {
      "cell_type": "code",
      "metadata": {
        "id": "DhNWV1iPSEvw",
        "colab_type": "code",
        "colab": {
          "base_uri": "https://localhost:8080/",
          "height": 776
        },
        "outputId": "753a6d25-f96e-4e94-ae49-011ae88f4f12"
      },
      "source": [
        "planilha"
      ],
      "execution_count": 141,
      "outputs": [
        {
          "output_type": "execute_result",
          "data": {
            "text/html": [
              "<div>\n",
              "<style scoped>\n",
              "    .dataframe tbody tr th:only-of-type {\n",
              "        vertical-align: middle;\n",
              "    }\n",
              "\n",
              "    .dataframe tbody tr th {\n",
              "        vertical-align: top;\n",
              "    }\n",
              "\n",
              "    .dataframe thead th {\n",
              "        text-align: right;\n",
              "    }\n",
              "</style>\n",
              "<table border=\"1\" class=\"dataframe\">\n",
              "  <thead>\n",
              "    <tr style=\"text-align: right;\">\n",
              "      <th></th>\n",
              "      <th>Nome (Completo)</th>\n",
              "      <th>Curso</th>\n",
              "      <th>VocE estA cursando disciplinas de que perIodo majoritariamente?</th>\n",
              "      <th>Matricula</th>\n",
              "      <th>NOME</th>\n",
              "      <th>SITUACAO</th>\n",
              "      <th>Pessoas que não responderam formulário</th>\n",
              "    </tr>\n",
              "  </thead>\n",
              "  <tbody>\n",
              "    <tr>\n",
              "      <th>0</th>\n",
              "      <td>CAIO LOPES ROZENTAL</td>\n",
              "      <td>Engenharia MecAnica</td>\n",
              "      <td>8º</td>\n",
              "      <td>119141848</td>\n",
              "      <td>HELOISA VILAR MARTINS</td>\n",
              "      <td>Ativa</td>\n",
              "      <td>OK</td>\n",
              "    </tr>\n",
              "    <tr>\n",
              "      <th>1</th>\n",
              "      <td>LUCCAS MAZOLLI VEIGA</td>\n",
              "      <td>Engenharia MecAnica</td>\n",
              "      <td>10º</td>\n",
              "      <td>119158780</td>\n",
              "      <td>JOAO PEDRO RODRIGUES PINHO</td>\n",
              "      <td>Ativa</td>\n",
              "      <td>OK</td>\n",
              "    </tr>\n",
              "    <tr>\n",
              "      <th>2</th>\n",
              "      <td>JULIANA ROMANO CORREIA</td>\n",
              "      <td>Engenharia MecAnica</td>\n",
              "      <td>4º</td>\n",
              "      <td>119178293</td>\n",
              "      <td>DANIEL GIRARD NAKAJIMA</td>\n",
              "      <td>Ativa</td>\n",
              "      <td>OK</td>\n",
              "    </tr>\n",
              "    <tr>\n",
              "      <th>3</th>\n",
              "      <td>LEO KEPPLE BORBA</td>\n",
              "      <td>Engenharia MecAnica</td>\n",
              "      <td>8º</td>\n",
              "      <td>119155245</td>\n",
              "      <td>MATHEUS MOERBECK DE ALMEIDA REGO MURTHA</td>\n",
              "      <td>Ativa</td>\n",
              "      <td>OK</td>\n",
              "    </tr>\n",
              "    <tr>\n",
              "      <th>4</th>\n",
              "      <td>JOAO VITOR COELHO VIEIRA BATISTA</td>\n",
              "      <td>Engenharia MecAnica</td>\n",
              "      <td>1º</td>\n",
              "      <td>118024695</td>\n",
              "      <td>CARLOS DANIEL PENAFORTE DE SOUZA</td>\n",
              "      <td>Ativa</td>\n",
              "      <td>CARLOS DANIEL PENAFORTE DE SOUZA</td>\n",
              "    </tr>\n",
              "    <tr>\n",
              "      <th>...</th>\n",
              "      <td>...</td>\n",
              "      <td>...</td>\n",
              "      <td>...</td>\n",
              "      <td>...</td>\n",
              "      <td>...</td>\n",
              "      <td>...</td>\n",
              "      <td>...</td>\n",
              "    </tr>\n",
              "    <tr>\n",
              "      <th>784</th>\n",
              "      <td>NAN</td>\n",
              "      <td>NaN</td>\n",
              "      <td>NaN</td>\n",
              "      <td>120085063</td>\n",
              "      <td>SHEYLA DE SOUZA DO CARMO</td>\n",
              "      <td>Ativa</td>\n",
              "      <td>SHEYLA DE SOUZA DO CARMO</td>\n",
              "    </tr>\n",
              "    <tr>\n",
              "      <th>785</th>\n",
              "      <td>NAN</td>\n",
              "      <td>NaN</td>\n",
              "      <td>NaN</td>\n",
              "      <td>120085136</td>\n",
              "      <td>JOYCE PAULINO</td>\n",
              "      <td>Ativa</td>\n",
              "      <td>OK</td>\n",
              "    </tr>\n",
              "    <tr>\n",
              "      <th>786</th>\n",
              "      <td>NAN</td>\n",
              "      <td>NaN</td>\n",
              "      <td>NaN</td>\n",
              "      <td>120085186</td>\n",
              "      <td>SARAH DE OLIVEIRA SANTANNA</td>\n",
              "      <td>Ativa</td>\n",
              "      <td>OK</td>\n",
              "    </tr>\n",
              "    <tr>\n",
              "      <th>787</th>\n",
              "      <td>NAN</td>\n",
              "      <td>NaN</td>\n",
              "      <td>NaN</td>\n",
              "      <td>120087277</td>\n",
              "      <td>JAMES DANIEL ALEXANDER WEBB</td>\n",
              "      <td>Ativa</td>\n",
              "      <td>JAMES DANIEL ALEXANDER WEBB</td>\n",
              "    </tr>\n",
              "    <tr>\n",
              "      <th>788</th>\n",
              "      <td>NAN</td>\n",
              "      <td>NaN</td>\n",
              "      <td>NaN</td>\n",
              "      <td>120087316</td>\n",
              "      <td>RORY NICHOLAS CAMPBELL MORGAN</td>\n",
              "      <td>Ativa</td>\n",
              "      <td>RORY NICHOLAS CAMPBELL MORGAN</td>\n",
              "    </tr>\n",
              "  </tbody>\n",
              "</table>\n",
              "<p>789 rows × 7 columns</p>\n",
              "</div>"
            ],
            "text/plain": [
              "                      Nome (Completo)  ... Pessoas que não responderam formulário\n",
              "0                 CAIO LOPES ROZENTAL  ...                                     OK\n",
              "1                LUCCAS MAZOLLI VEIGA  ...                                     OK\n",
              "2              JULIANA ROMANO CORREIA  ...                                     OK\n",
              "3                    LEO KEPPLE BORBA  ...                                     OK\n",
              "4    JOAO VITOR COELHO VIEIRA BATISTA  ...       CARLOS DANIEL PENAFORTE DE SOUZA\n",
              "..                                ...  ...                                    ...\n",
              "784                               NAN  ...               SHEYLA DE SOUZA DO CARMO\n",
              "785                               NAN  ...                                     OK\n",
              "786                               NAN  ...                                     OK\n",
              "787                               NAN  ...            JAMES DANIEL ALEXANDER WEBB\n",
              "788                               NAN  ...          RORY NICHOLAS CAMPBELL MORGAN\n",
              "\n",
              "[789 rows x 7 columns]"
            ]
          },
          "metadata": {
            "tags": []
          },
          "execution_count": 141
        }
      ]
    },
    {
      "cell_type": "code",
      "metadata": {
        "id": "1lJqRxCWSFZ3",
        "colab_type": "code",
        "colab": {}
      },
      "source": [
        "planilha.to_excel(\"/home/MapeamentoFormulario.xlsx\", index=False)"
      ],
      "execution_count": 143,
      "outputs": []
    },
    {
      "cell_type": "code",
      "metadata": {
        "id": "fYrjkjvGTU8h",
        "colab_type": "code",
        "colab": {}
      },
      "source": [
        ""
      ],
      "execution_count": null,
      "outputs": []
    }
  ]
}